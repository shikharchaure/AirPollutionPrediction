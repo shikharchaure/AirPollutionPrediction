{
  "nbformat": 4,
  "nbformat_minor": 0,
  "metadata": {
    "colab": {
      "name": "CNN_AP.ipynb",
      "provenance": [],
      "collapsed_sections": []
    },
    "kernelspec": {
      "name": "python3",
      "display_name": "Python 3"
    },
    "accelerator": "GPU"
  },
  "cells": [
    {
      "cell_type": "markdown",
      "metadata": {
        "id": "C83GzG8lIxOt",
        "colab_type": "text"
      },
      "source": [
        "## Import Libraries"
      ]
    },
    {
      "cell_type": "code",
      "metadata": {
        "id": "ckKOsoQLza8-",
        "colab_type": "code",
        "outputId": "5050dd5d-c870-48e9-b673-0787d6eee0c2",
        "colab": {
          "base_uri": "https://localhost:8080/",
          "height": 98
        }
      },
      "source": [
        "import pandas as pd\n",
        "import numpy as np\n",
        "from keras import Sequential, layers\n",
        "from keras.optimizers import Adam\n",
        "from keras.datasets import cifar10\n",
        "from keras.layers import Conv2D,LeakyReLU,MaxPooling2D,Flatten,Dense,Reshape,Conv2DTranspose, Input\n",
        "import matplotlib.pyplot as plt\n",
        "from keras import initializers\n",
        "from keras.models import Model\n",
        "from keras.utils import np_utils\n",
        "from keras import backend as K\n",
        "from keras.callbacks import TensorBoard\n",
        "from keras.utils import to_categorical\n"
      ],
      "execution_count": 0,
      "outputs": [
        {
          "output_type": "stream",
          "text": [
            "Using TensorFlow backend.\n"
          ],
          "name": "stderr"
        },
        {
          "output_type": "display_data",
          "data": {
            "text/html": [
              "<p style=\"color: red;\">\n",
              "The default version of TensorFlow in Colab will soon switch to TensorFlow 2.x.<br>\n",
              "We recommend you <a href=\"https://www.tensorflow.org/guide/migrate\" target=\"_blank\">upgrade</a> now \n",
              "or ensure your notebook will continue to use TensorFlow 1.x via the <code>%tensorflow_version 1.x</code> magic:\n",
              "<a href=\"https://colab.research.google.com/notebooks/tensorflow_version.ipynb\" target=\"_blank\">more info</a>.</p>\n"
            ],
            "text/plain": [
              "<IPython.core.display.HTML object>"
            ]
          },
          "metadata": {
            "tags": []
          }
        }
      ]
    },
    {
      "cell_type": "markdown",
      "metadata": {
        "id": "6y76jF_VI8dI",
        "colab_type": "text"
      },
      "source": [
        "## Functions to read data and preprocessing"
      ]
    },
    {
      "cell_type": "code",
      "metadata": {
        "id": "7niqXTaYzhHg",
        "colab_type": "code",
        "colab": {}
      },
      "source": [
        "# This function for grouping values by timestamp and reshaping is imported from github:\n",
        " # https://github.com/vanduc103/air_analysis_v1/blob/master/convolutional.py\n",
        "\n",
        "def read_data(data_file,aqi_file):\n",
        "    N = 1024 # number of cells\n",
        "    timerange_init = -1\n",
        "    X = list()\n",
        "    # read pm2_5 values\n",
        "    with open(data_file, 'r') as f:\n",
        "        next(f) # by pass the header\n",
        "        for row in f:\n",
        "            res = row.split(',')\n",
        "            timerange, map_idx, pm2_5 = int(res[0]), int(res[1]), float(res[2])\n",
        "            # create list of pm2_5\n",
        "            if (timerange != timerange_init):\n",
        "                x1 = list()\n",
        "                for j in range(N):\n",
        "                    x1.append(0)\n",
        "                timerange_init = timerange\n",
        "                X.append(x1)\n",
        "            else:\n",
        "                x1 = X[timerange]\n",
        "            x1[map_idx] = pm2_5\n",
        "    Y = list()\n",
        "    with open(aqi_file, 'r') as f:\n",
        "        for row in f:\n",
        "            Y.append(float(row))\n",
        "\n",
        "    # show values\n",
        "    m = timerange + 1\n",
        "    X = np.asarray(X)\n",
        "    X = X.reshape(m, 32, 32, 1)\n",
        "    Y = np.asarray(Y)\n",
        "    Y = Y[0:m]\n",
        "    y_ = np.copy(Y)\n",
        "    y_[np.argwhere(Y <= 15)[:,0]] = 0\n",
        "    y_[np.argwhere(np.logical_and(Y > 15, Y <= 35))[:,0]] = 1\n",
        "    y_[np.argwhere(np.logical_and(Y > 35, Y <= 75))[:,0]] = 2\n",
        "    y_[np.argwhere(Y > 75)[:,0]] = 3\n",
        "\n",
        "    return X, y_       \n"
      ],
      "execution_count": 0,
      "outputs": []
    },
    {
      "cell_type": "markdown",
      "metadata": {
        "id": "IgdhXh1nMgoT",
        "colab_type": "text"
      },
      "source": [
        "## Build CNN model"
      ]
    },
    {
      "cell_type": "code",
      "metadata": {
        "id": "Agk7l18szjtW",
        "colab_type": "code",
        "colab": {}
      },
      "source": [
        "def buildCNN(inp_dim):\n",
        "    model = Sequential()\n",
        "    #1\n",
        "    model.add(Conv2D(32,kernel_size=5,strides=(1,1),padding='SAME', input_shape = inp_dim))\n",
        "    model.add(LeakyReLU(0.2))\n",
        "    model.add(MaxPooling2D(pool_size=(2,2)))\n",
        "    \n",
        "    #2\n",
        "    model.add(Conv2D(32,kernel_size=5,strides=(1,1),padding='SAME'))\n",
        "    model.add(LeakyReLU(0.2))\n",
        "    model.add(MaxPooling2D(pool_size=(2,2)))\n",
        "    \n",
        "    #3\n",
        "    model.add(Flatten())\n",
        "    model.add(Dense(364))\n",
        "    model.add(Dense(192))\n",
        "    model.add(Dense(4,activation='softmax'))\n",
        "\n",
        "    model.compile(Adam(lr=0.0001), loss='categorical_crossentropy',\n",
        "                    metrics=['accuracy'])\n",
        "    return model"
      ],
      "execution_count": 0,
      "outputs": []
    },
    {
      "cell_type": "markdown",
      "metadata": {
        "id": "Dd014r8mMmpE",
        "colab_type": "text"
      },
      "source": [
        "## Read training data "
      ]
    },
    {
      "cell_type": "code",
      "metadata": {
        "id": "g5UiUWi-zmV2",
        "colab_type": "code",
        "colab": {}
      },
      "source": [
        "#Read data from 4 files\n",
        "x1,y1 = read_data('data_12_2017.csv','aqi_12_2017')\n",
        "x2,y2 = read_data('data_11_2017.csv','aqi_11_2017')\n",
        "x3,y3 = read_data('data_10_2017.csv','aqi_10_2017')\n",
        "x4,y4 = read_data('data_09_2017.csv','aqi_09_2017')\n",
        "\n",
        "#Concatenate all data\n",
        "X_train = np.concatenate([x1, x2, x3, x4], axis = 0)\n",
        "y_train = np.concatenate([y1, y4, y3, y4], axis = 0)\n",
        "\n",
        "#Split to training and validation.\n",
        "split_size = int(X_train.shape[0]*0.9)\n",
        "train_x, val_x = X_train[:split_size], X_train[split_size:]\n",
        "train_y= y_train[:split_size]\n",
        "val_y  = y_train[split_size:]\n",
        "\n",
        "#Read test data\n",
        "X_test, y_test = read_data('data_01_2018.csv', 'aqi_01_2018')\n",
        "inp_dim = X_train[0].shape\n",
        "\n",
        "train_x[0].shape\n"
      ],
      "execution_count": 0,
      "outputs": []
    },
    {
      "cell_type": "code",
      "metadata": {
        "id": "ue7YTybRKuZ7",
        "colab_type": "code",
        "colab": {}
      },
      "source": [
        "#Build CNN model\n",
        "model = buildCNN(inp_dim)\n",
        "\n",
        "#Make tensorboard object\n",
        "tensorboard = TensorBoard(\n",
        "  log_dir='/content/drive/My Drive/DLProject1/cnn_ap3',\n",
        "  histogram_freq=0,\n",
        "  batch_size=64,\n",
        "  write_graph=True,\n",
        "  write_grads=True\n",
        ")\n",
        "tensorboard.set_model(model)"
      ],
      "execution_count": 0,
      "outputs": []
    },
    {
      "cell_type": "markdown",
      "metadata": {
        "id": "3WJhZUJHLQ6L",
        "colab_type": "text"
      },
      "source": [
        "## Start Training"
      ]
    },
    {
      "cell_type": "code",
      "metadata": {
        "id": "4wh97FiJ0LkO",
        "colab_type": "code",
        "outputId": "ef143617-0d8c-4b70-9231-37fb30baef23",
        "colab": {
          "base_uri": "https://localhost:8080/",
          "height": 1000
        }
      },
      "source": [
        "#Training from scratch\n",
        "\n",
        "batch_size = 64\n",
        "epochs = 200\n",
        "seed = 128\n",
        "rng = np.random.RandomState(seed)\n",
        "for i in range(0,epochs):\n",
        "    total_batch = len(train_x)//batch_size\n",
        "    for j in range(total_batch):\n",
        "        batch_mask = rng.choice(train_x.shape[0], batch_size)\n",
        "        batch_x = train_x[[batch_mask]]\n",
        "        batch_y = train_y[[batch_mask]]    \n",
        "        batch_y = to_categorical(batch_y,4)\n",
        "        loss = model.train_on_batch(batch_x,batch_y)\n",
        "    tensorboard.on_epoch_end(i, {\"loss\":loss[0],\"acc\":loss[1]}) \n",
        "    print(' ***epoch '+str(i)+ ' '+str(loss) ) "
      ],
      "execution_count": 0,
      "outputs": [
        {
          "output_type": "stream",
          "text": [
            "WARNING:tensorflow:From /usr/local/lib/python3.6/dist-packages/tensorflow_core/python/ops/math_grad.py:1424: where (from tensorflow.python.ops.array_ops) is deprecated and will be removed in a future version.\n",
            "Instructions for updating:\n",
            "Use tf.where in 2.0, which has the same broadcast rule as np.where\n",
            "WARNING:tensorflow:From /usr/local/lib/python3.6/dist-packages/keras/backend/tensorflow_backend.py:1033: The name tf.assign_add is deprecated. Please use tf.compat.v1.assign_add instead.\n",
            "\n"
          ],
          "name": "stdout"
        },
        {
          "output_type": "stream",
          "text": [
            "/usr/local/lib/python3.6/dist-packages/ipykernel_launcher.py:16: FutureWarning: Using a non-tuple sequence for multidimensional indexing is deprecated; use `arr[tuple(seq)]` instead of `arr[seq]`. In the future this will be interpreted as an array index, `arr[np.array(seq)]`, which will result either in an error or a different result.\n",
            "  app.launch_new_instance()\n",
            "/usr/local/lib/python3.6/dist-packages/ipykernel_launcher.py:17: FutureWarning: Using a non-tuple sequence for multidimensional indexing is deprecated; use `arr[tuple(seq)]` instead of `arr[seq]`. In the future this will be interpreted as an array index, `arr[np.array(seq)]`, which will result either in an error or a different result.\n"
          ],
          "name": "stderr"
        },
        {
          "output_type": "stream",
          "text": [
            "WARNING:tensorflow:From /usr/local/lib/python3.6/dist-packages/keras/backend/tensorflow_backend.py:1020: The name tf.assign is deprecated. Please use tf.compat.v1.assign instead.\n",
            "\n"
          ],
          "name": "stdout"
        },
        {
          "output_type": "stream",
          "text": [
            "/usr/local/lib/python3.6/dist-packages/ipykernel_launcher.py:16: FutureWarning: Using a non-tuple sequence for multidimensional indexing is deprecated; use `arr[tuple(seq)]` instead of `arr[seq]`. In the future this will be interpreted as an array index, `arr[np.array(seq)]`, which will result either in an error or a different result.\n",
            "  app.launch_new_instance()\n",
            "/usr/local/lib/python3.6/dist-packages/ipykernel_launcher.py:17: FutureWarning: Using a non-tuple sequence for multidimensional indexing is deprecated; use `arr[tuple(seq)]` instead of `arr[seq]`. In the future this will be interpreted as an array index, `arr[np.array(seq)]`, which will result either in an error or a different result.\n"
          ],
          "name": "stderr"
        },
        {
          "output_type": "stream",
          "text": [
            "WARNING:tensorflow:From /usr/local/lib/python3.6/dist-packages/keras/callbacks.py:1265: The name tf.Summary is deprecated. Please use tf.compat.v1.Summary instead.\n",
            "\n",
            " ***epoch 0 [1.4521585, 0.3125]\n",
            " ***epoch 1 [1.0232806, 0.515625]\n",
            " ***epoch 2 [1.3713073, 0.515625]\n",
            " ***epoch 3 [0.90282404, 0.65625]\n",
            " ***epoch 4 [0.9550656, 0.640625]\n",
            " ***epoch 5 [1.0990579, 0.625]\n",
            " ***epoch 6 [0.72208405, 0.75]\n",
            " ***epoch 7 [0.78507686, 0.8125]\n",
            " ***epoch 8 [0.80089706, 0.84375]\n",
            " ***epoch 9 [0.56494963, 0.859375]\n",
            " ***epoch 10 [0.47486997, 0.859375]\n",
            " ***epoch 11 [0.5986959, 0.765625]\n",
            " ***epoch 12 [0.36846927, 0.890625]\n",
            " ***epoch 13 [0.38962513, 0.828125]\n",
            " ***epoch 14 [0.39711004, 0.84375]\n",
            " ***epoch 15 [0.3841864, 0.890625]\n",
            " ***epoch 16 [0.2976397, 0.9375]\n",
            " ***epoch 17 [0.28493646, 0.90625]\n",
            " ***epoch 18 [0.3129053, 0.890625]\n",
            " ***epoch 19 [0.31272197, 0.875]\n",
            " ***epoch 20 [0.513276, 0.890625]\n",
            " ***epoch 21 [0.22959039, 0.921875]\n",
            " ***epoch 22 [0.2321307, 0.921875]\n",
            " ***epoch 23 [0.19477819, 0.96875]\n",
            " ***epoch 24 [0.1906231, 0.953125]\n",
            " ***epoch 25 [0.2716744, 0.90625]\n",
            " ***epoch 26 [0.2193717, 0.9375]\n",
            " ***epoch 27 [0.11591697, 1.0]\n",
            " ***epoch 28 [0.19199553, 0.9375]\n",
            " ***epoch 29 [0.18462452, 0.953125]\n",
            " ***epoch 30 [0.118118286, 0.96875]\n",
            " ***epoch 31 [0.110220045, 0.984375]\n",
            " ***epoch 32 [0.12952913, 0.953125]\n",
            " ***epoch 33 [0.43868923, 0.9375]\n",
            " ***epoch 34 [0.17009036, 0.953125]\n",
            " ***epoch 35 [0.070067696, 0.984375]\n",
            " ***epoch 36 [0.14436322, 0.9375]\n",
            " ***epoch 37 [0.12807038, 0.984375]\n",
            " ***epoch 38 [0.1258564, 0.9375]\n",
            " ***epoch 39 [0.053432904, 0.984375]\n",
            " ***epoch 40 [0.091100276, 0.984375]\n",
            " ***epoch 41 [0.09582557, 0.984375]\n",
            " ***epoch 42 [0.0958811, 0.984375]\n",
            " ***epoch 43 [0.08304897, 0.984375]\n",
            " ***epoch 44 [0.06857267, 0.984375]\n",
            " ***epoch 45 [0.068453364, 1.0]\n",
            " ***epoch 46 [0.11264503, 0.984375]\n",
            " ***epoch 47 [0.08904797, 0.984375]\n",
            " ***epoch 48 [0.06428622, 0.96875]\n",
            " ***epoch 49 [0.055658303, 1.0]\n",
            " ***epoch 50 [0.1294623, 0.984375]\n",
            " ***epoch 51 [0.04832962, 1.0]\n",
            " ***epoch 52 [0.08116496, 0.96875]\n",
            " ***epoch 53 [0.0379921, 1.0]\n",
            " ***epoch 54 [0.07064772, 0.984375]\n",
            " ***epoch 55 [0.028906086, 1.0]\n",
            " ***epoch 56 [0.02260714, 1.0]\n",
            " ***epoch 57 [0.28082946, 0.984375]\n",
            " ***epoch 58 [0.012634456, 1.0]\n",
            " ***epoch 59 [0.017201204, 1.0]\n",
            " ***epoch 60 [0.028594155, 1.0]\n",
            " ***epoch 61 [0.013530698, 1.0]\n",
            " ***epoch 62 [0.27973554, 0.96875]\n",
            " ***epoch 63 [0.016694441, 1.0]\n",
            " ***epoch 64 [0.010472748, 1.0]\n",
            " ***epoch 65 [0.014075567, 1.0]\n",
            " ***epoch 66 [0.01607069, 1.0]\n",
            " ***epoch 67 [0.032125898, 0.984375]\n",
            " ***epoch 68 [0.0073467824, 1.0]\n",
            " ***epoch 69 [0.01803283, 1.0]\n",
            " ***epoch 70 [0.010275649, 1.0]\n",
            " ***epoch 71 [0.0076864283, 1.0]\n",
            " ***epoch 72 [0.004330625, 1.0]\n",
            " ***epoch 73 [0.0062802876, 1.0]\n",
            " ***epoch 74 [0.005695934, 1.0]\n",
            " ***epoch 75 [0.014510577, 1.0]\n",
            " ***epoch 76 [0.01167606, 1.0]\n",
            " ***epoch 77 [0.009470381, 1.0]\n",
            " ***epoch 78 [0.0039748414, 1.0]\n",
            " ***epoch 79 [0.0063760895, 1.0]\n",
            " ***epoch 80 [0.0037424192, 1.0]\n",
            " ***epoch 81 [0.008821997, 1.0]\n",
            " ***epoch 82 [0.0041306377, 1.0]\n",
            " ***epoch 83 [0.0042711096, 1.0]\n",
            " ***epoch 84 [0.25600448, 0.984375]\n",
            " ***epoch 85 [0.0062340065, 1.0]\n",
            " ***epoch 86 [0.0055826195, 1.0]\n",
            " ***epoch 87 [0.0020894483, 1.0]\n",
            " ***epoch 88 [0.0017230411, 1.0]\n",
            " ***epoch 89 [0.0028149681, 1.0]\n",
            " ***epoch 90 [0.004674053, 1.0]\n",
            " ***epoch 91 [0.0050909566, 1.0]\n",
            " ***epoch 92 [0.0034533408, 1.0]\n",
            " ***epoch 93 [0.0025003876, 1.0]\n",
            " ***epoch 94 [0.0018085401, 1.0]\n",
            " ***epoch 95 [0.0042808102, 1.0]\n",
            " ***epoch 96 [0.0023333025, 1.0]\n",
            " ***epoch 97 [0.0018361032, 1.0]\n",
            " ***epoch 98 [0.0016547369, 1.0]\n",
            " ***epoch 99 [0.004306771, 1.0]\n",
            " ***epoch 100 [0.0013127794, 1.0]\n",
            " ***epoch 101 [0.0023041177, 1.0]\n",
            " ***epoch 102 [0.0014688156, 1.0]\n",
            " ***epoch 103 [0.0027177667, 1.0]\n",
            " ***epoch 104 [0.0010768429, 1.0]\n",
            " ***epoch 105 [0.0016053122, 1.0]\n",
            " ***epoch 106 [0.0011568686, 1.0]\n",
            " ***epoch 107 [0.0011516258, 1.0]\n",
            " ***epoch 108 [0.0012302971, 1.0]\n",
            " ***epoch 109 [0.0030418297, 1.0]\n",
            " ***epoch 110 [0.0012403233, 1.0]\n",
            " ***epoch 111 [0.0013727581, 1.0]\n",
            " ***epoch 112 [0.00066611794, 1.0]\n",
            " ***epoch 113 [0.0014496911, 1.0]\n",
            " ***epoch 114 [0.0011631299, 1.0]\n",
            " ***epoch 115 [0.0012439281, 1.0]\n",
            " ***epoch 116 [0.0009869598, 1.0]\n",
            " ***epoch 117 [0.0014712736, 1.0]\n",
            " ***epoch 118 [0.0010872155, 1.0]\n",
            " ***epoch 119 [0.0009868884, 1.0]\n",
            " ***epoch 120 [0.0014104459, 1.0]\n",
            " ***epoch 121 [0.0005565222, 1.0]\n",
            " ***epoch 122 [0.0014044116, 1.0]\n",
            " ***epoch 123 [0.0008437652, 1.0]\n",
            " ***epoch 124 [0.0010256647, 1.0]\n",
            " ***epoch 125 [0.25302267, 0.984375]\n",
            " ***epoch 126 [0.00060441776, 1.0]\n",
            " ***epoch 127 [0.00071973435, 1.0]\n",
            " ***epoch 128 [0.0009480398, 1.0]\n",
            " ***epoch 129 [0.0006384602, 1.0]\n",
            " ***epoch 130 [0.0008434653, 1.0]\n",
            " ***epoch 131 [0.0010906634, 1.0]\n",
            " ***epoch 132 [0.0006999704, 1.0]\n",
            " ***epoch 133 [0.0005115145, 1.0]\n",
            " ***epoch 134 [0.00045628395, 1.0]\n",
            " ***epoch 135 [0.00079682656, 1.0]\n",
            " ***epoch 136 [0.0002792317, 1.0]\n",
            " ***epoch 137 [0.00042491208, 1.0]\n",
            " ***epoch 138 [0.0006410738, 1.0]\n",
            " ***epoch 139 [0.0006903658, 1.0]\n",
            " ***epoch 140 [0.00044710853, 1.0]\n",
            " ***epoch 141 [0.00038475991, 1.0]\n",
            " ***epoch 142 [0.0006706295, 1.0]\n",
            " ***epoch 143 [0.0003015439, 1.0]\n",
            " ***epoch 144 [0.00061914814, 1.0]\n",
            " ***epoch 145 [0.2521718, 0.984375]\n",
            " ***epoch 146 [0.0002447469, 1.0]\n",
            " ***epoch 147 [0.0002652745, 1.0]\n",
            " ***epoch 148 [0.00043587422, 1.0]\n",
            " ***epoch 149 [0.00020308705, 1.0]\n",
            " ***epoch 150 [0.00037927335, 1.0]\n",
            " ***epoch 151 [0.25244796, 0.984375]\n",
            " ***epoch 152 [0.0005306548, 1.0]\n",
            " ***epoch 153 [0.0006601303, 1.0]\n",
            " ***epoch 154 [0.0003077173, 1.0]\n",
            " ***epoch 155 [0.0002597526, 1.0]\n",
            " ***epoch 156 [0.0004293418, 1.0]\n",
            " ***epoch 157 [0.00033330024, 1.0]\n",
            " ***epoch 158 [0.0002430784, 1.0]\n",
            " ***epoch 159 [0.00046389984, 1.0]\n",
            " ***epoch 160 [0.00032611558, 1.0]\n",
            " ***epoch 161 [0.00029233957, 1.0]\n",
            " ***epoch 162 [0.00028402856, 1.0]\n",
            " ***epoch 163 [0.00023103025, 1.0]\n",
            " ***epoch 164 [0.00016350328, 1.0]\n",
            " ***epoch 165 [0.25201285, 0.984375]\n",
            " ***epoch 166 [0.0004484915, 1.0]\n",
            " ***epoch 167 [0.0002389448, 1.0]\n",
            " ***epoch 168 [0.00026438173, 1.0]\n",
            " ***epoch 169 [0.00023789116, 1.0]\n",
            " ***epoch 170 [0.00014968391, 1.0]\n",
            " ***epoch 171 [0.00039320858, 1.0]\n",
            " ***epoch 172 [0.00016173747, 1.0]\n",
            " ***epoch 173 [0.00019886452, 1.0]\n",
            " ***epoch 174 [0.00020458612, 1.0]\n",
            " ***epoch 175 [0.00011264391, 1.0]\n",
            " ***epoch 176 [0.00017931242, 1.0]\n",
            " ***epoch 177 [0.25199485, 0.984375]\n",
            " ***epoch 178 [0.0002895632, 1.0]\n",
            " ***epoch 179 [9.010619e-05, 1.0]\n",
            " ***epoch 180 [0.00021124505, 1.0]\n",
            " ***epoch 181 [0.00014289524, 1.0]\n",
            " ***epoch 182 [0.000116621646, 1.0]\n",
            " ***epoch 183 [0.00016508595, 1.0]\n",
            " ***epoch 184 [0.00025240472, 1.0]\n",
            " ***epoch 185 [0.00012996477, 1.0]\n",
            " ***epoch 186 [0.00012567584, 1.0]\n",
            " ***epoch 187 [0.00013696971, 1.0]\n",
            " ***epoch 188 [0.0001499928, 1.0]\n",
            " ***epoch 189 [0.00017448462, 1.0]\n",
            " ***epoch 190 [0.00012088189, 1.0]\n",
            " ***epoch 191 [0.00010922209, 1.0]\n",
            " ***epoch 192 [0.00017500094, 1.0]\n",
            " ***epoch 193 [0.25201046, 0.984375]\n",
            " ***epoch 194 [0.0001601701, 1.0]\n",
            " ***epoch 195 [0.00011411914, 1.0]\n",
            " ***epoch 196 [0.00013749165, 1.0]\n",
            " ***epoch 197 [0.00021078074, 1.0]\n",
            " ***epoch 198 [0.00016325017, 1.0]\n",
            " ***epoch 199 [6.659988e-05, 1.0]\n"
          ],
          "name": "stdout"
        }
      ]
    },
    {
      "cell_type": "code",
      "metadata": {
        "id": "-bfVE2EBsnxo",
        "colab_type": "code",
        "colab": {}
      },
      "source": [
        "#train_y = to_categorical(train_y,4)\n",
        "#model = buildCNN(inp_dim)\n",
        "# history = model.fit(train_x,train_y,epochs=100,batch_size=64,\n",
        "#           callbacks =[tensorboard])"
      ],
      "execution_count": 0,
      "outputs": []
    },
    {
      "cell_type": "code",
      "metadata": {
        "id": "22TFfBuNoF1s",
        "colab_type": "code",
        "outputId": "fc7459fd-2f82-4318-ede3-e00fb02ac43d",
        "colab": {
          "base_uri": "https://localhost:8080/",
          "height": 265
        }
      },
      "source": [
        "plt.plot(history.history['loss'])\n",
        "plt.show()"
      ],
      "execution_count": 0,
      "outputs": [
        {
          "output_type": "display_data",
          "data": {
            "image/png": "[encoded data removed]",
            "text/plain": [
              "<Figure size 432x288 with 1 Axes>"
            ]
          },
          "metadata": {
            "tags": []
          }
        }
      ]
    },
    {
      "cell_type": "markdown",
      "metadata": {
        "id": "zJZYahy1M3A3",
        "colab_type": "text"
      },
      "source": [
        "## Spatial distribution vs Predicted values"
      ]
    },
    {
      "cell_type": "code",
      "metadata": {
        "id": "BvYiaDM-OJ_3",
        "colab_type": "code",
        "outputId": "6a7f9d9e-746a-4f3a-9c3c-66c65db72a73",
        "colab": {
          "base_uri": "https://localhost:8080/",
          "height": 1000
        }
      },
      "source": [
        "#4 Random samples\n",
        "for j in range(4):\n",
        "    batch_mask = rng.choice(X_test.shape[0], 1)\n",
        "    batch_x = X_test[[batch_mask]]\n",
        "    batch_y = y_test[[batch_mask]]\n",
        "    y = model.predict(batch_x)\n",
        "    fig = plt.figure()\n",
        "    ax = fig.add_subplot(121)\n",
        "    ax.set_title('#' + str(1) + ': prediction = ' + str(np.argmax(y)))\n",
        "    ax.imshow(batch_x[0][:,:,0], cmap='gray', interpolation='bilinear')\n",
        "    print(' ')"
      ],
      "execution_count": 0,
      "outputs": [
        {
          "output_type": "stream",
          "text": [
            "/usr/local/lib/python3.6/dist-packages/ipykernel_launcher.py:3: FutureWarning: Using a non-tuple sequence for multidimensional indexing is deprecated; use `arr[tuple(seq)]` instead of `arr[seq]`. In the future this will be interpreted as an array index, `arr[np.array(seq)]`, which will result either in an error or a different result.\n",
            "  This is separate from the ipykernel package so we can avoid doing imports until\n",
            "/usr/local/lib/python3.6/dist-packages/ipykernel_launcher.py:4: FutureWarning: Using a non-tuple sequence for multidimensional indexing is deprecated; use `arr[tuple(seq)]` instead of `arr[seq]`. In the future this will be interpreted as an array index, `arr[np.array(seq)]`, which will result either in an error or a different result.\n",
            "  after removing the cwd from sys.path.\n"
          ],
          "name": "stderr"
        },
        {
          "output_type": "stream",
          "text": [
            "(1, 4)\n",
            " \n",
            "(1, 4)\n",
            " \n",
            "(1, 4)\n",
            " \n",
            "(1, 4)\n",
            " \n"
          ],
          "name": "stdout"
        },
        {
          "output_type": "display_data",
          "data": {
            "image/png": "[encoded data removed]",
            "text/plain": [
              "<Figure size 432x288 with 1 Axes>"
            ]
          },
          "metadata": {
            "tags": []
          }
        },
        {
          "output_type": "display_data",
          "data": {
            "image/png": "[encoded data removed]",
            "text/plain": [
              "<Figure size 432x288 with 1 Axes>"
            ]
          },
          "metadata": {
            "tags": []
          }
        },
        {
          "output_type": "display_data",
          "data": {
            "image/png": "[encoded data removed]",
            "text/plain": [
              "<Figure size 432x288 with 1 Axes>"
            ]
          },
          "metadata": {
            "tags": []
          }
        },
        {
          "output_type": "display_data",
          "data": {
            "image/png": "[encoded data removed]",
            "text/plain": [
              "<Figure size 432x288 with 1 Axes>"
            ]
          },
          "metadata": {
            "tags": []
          }
        }
      ]
    },
    {
      "cell_type": "markdown",
      "metadata": {
        "id": "KyGITV3VNt-H",
        "colab_type": "text"
      },
      "source": [
        "## Evaluate model"
      ]
    },
    {
      "cell_type": "code",
      "metadata": {
        "id": "6g1LUddr7-lx",
        "colab_type": "code",
        "outputId": "28721d30-38dc-4596-cdd9-3448b523a54e",
        "colab": {
          "base_uri": "https://localhost:8080/",
          "height": 51
        }
      },
      "source": [
        "X_test, y_test = read_data('data_01_2018.csv', 'aqi_01_2018')\n",
        "y_test = to_categorical(y_test,4)\n",
        "model.evaluate(X_test,y_test)"
      ],
      "execution_count": 0,
      "outputs": [
        {
          "output_type": "stream",
          "text": [
            "404/404 [==============================] - 0s 194us/step\n"
          ],
          "name": "stdout"
        },
        {
          "output_type": "execute_result",
          "data": {
            "text/plain": [
              "[5.959045034824031, 0.4331683162415382]"
            ]
          },
          "metadata": {
            "tags": []
          },
          "execution_count": 13
        }
      ]
    },
    {
      "cell_type": "markdown",
      "metadata": {
        "id": "9nCyNeiJOBQD",
        "colab_type": "text"
      },
      "source": [
        "## Count values for each class"
      ]
    },
    {
      "cell_type": "code",
      "metadata": {
        "id": "gRyRXc5O8dnf",
        "colab_type": "code",
        "colab": {}
      },
      "source": [
        "y = model.predict(X_test)\n",
        "good = 0\n",
        "moderate = 0\n",
        "unheaelthy = 0\n",
        "hazardous  = 0\n",
        "corr = 0\n",
        "for i in range(len(y_test)):\n",
        "  val = np.argmax(y[i])\n",
        "  if val==0:\n",
        "    good=good+1\n",
        "  elif val==1:\n",
        "    moderate=moderate+1\n",
        "  elif val==2:\n",
        "    unheaelthy=unheaelthy+1\n",
        "  else:\n",
        "    hazardous = hazardous + 1\n",
        "    "
      ],
      "execution_count": 0,
      "outputs": []
    },
    {
      "cell_type": "markdown",
      "metadata": {
        "id": "n7qPauu0Oekl",
        "colab_type": "text"
      },
      "source": [
        "## Print values for each class"
      ]
    },
    {
      "cell_type": "code",
      "metadata": {
        "id": "1N0fot1_HOHV",
        "colab_type": "code",
        "outputId": "91339e67-2c3b-4ac9-9d0a-0d82558587ee",
        "colab": {
          "base_uri": "https://localhost:8080/",
          "height": 86
        }
      },
      "source": [
        "print('Good = '+str(good))\n",
        "print('Moderate = '+str(moderate))\n",
        "print('Uhealthy = '+ str(unheaelthy))\n",
        "print('Hazardous = '+ str(hazardous))"
      ],
      "execution_count": 0,
      "outputs": [
        {
          "output_type": "stream",
          "text": [
            "Good = 153\n",
            "Moderate = 191\n",
            "Uhealthy = 60\n",
            "Hazardous = 0\n"
          ],
          "name": "stdout"
        }
      ]
    }
  ]
}