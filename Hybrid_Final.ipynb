{
  "nbformat": 4,
  "nbformat_minor": 0,
  "metadata": {
    "colab": {
      "name": "Hybrid_Final.ipynb",
      "provenance": [],
      "collapsed_sections": [],
      "toc_visible": true
    },
    "kernelspec": {
      "name": "python3",
      "display_name": "Python 3"
    },
    "accelerator": "GPU"
  },
  "cells": [
    {
      "cell_type": "markdown",
      "metadata": {
        "id": "_43AQkDKO38x",
        "colab_type": "text"
      },
      "source": [
        "### Import Libraries"
      ]
    },
    {
      "cell_type": "code",
      "metadata": {
        "id": "DcItNX12RbCB",
        "colab_type": "code",
        "colab": {}
      },
      "source": [
        "import pandas as pd\n",
        "import numpy as np\n",
        "from keras import Sequential, layers\n",
        "from keras.optimizers import Adam\n",
        "from keras.datasets import cifar10\n",
        "from keras.layers import Conv2D,LeakyReLU,BatchNormalization,Flatten,Dense,Reshape,Conv2DTranspose,Input,Embedding,LSTM,Concatenate,Lambda\n",
        "from keras.layers import concatenate\n",
        "import matplotlib.pyplot as plt\n",
        "from keras import initializers\n",
        "from keras.models import Model\n",
        "from sklearn.preprocessing import StandardScaler, LabelEncoder, OneHotEncoder\n",
        "from keras.utils import np_utils\n",
        "from keras import backend as K\n",
        "from keras.utils import to_categorical,plot_model\n",
        "import random\n",
        "import numpy as np\n",
        "import time\n",
        "from keras.callbacks import TensorBoard\n",
        "import matplotlib.pyplot as plt"
      ],
      "execution_count": 0,
      "outputs": []
    },
    {
      "cell_type": "markdown",
      "metadata": {
        "id": "Qu26642qO-7K",
        "colab_type": "text"
      },
      "source": [
        "## Functions for data processing"
      ]
    },
    {
      "cell_type": "code",
      "metadata": {
        "id": "X0gRoRseRiqB",
        "colab_type": "code",
        "colab": {}
      },
      "source": [
        "def convert_to_array(file):\n",
        "    res = list()\n",
        "    #Open file and read add every value from a line in a list\n",
        "    with open(file,'r') as f:\n",
        "        for line in f:\n",
        "            res.append(float(line))\n",
        "    res = np.asarray(res)        \n",
        "    f.close()\n",
        "    return res\n",
        "\n",
        "\n",
        "def read_weather_file(file):\n",
        "    temp = []\n",
        "    rain = []\n",
        "    wind_speed = []\n",
        "    wind_direction = []\n",
        "    #Open file which has 5 values\n",
        "    #Split on comma and add temperature, rain, wind_speed and wind_direction in a list.\n",
        "    with open(file, 'r') as f:\n",
        "        f.readline()\n",
        "        for line in f:\n",
        "            temp.append(float(line.split(',')[0]))\n",
        "            rain.append(float(line.split(',')[1]))\n",
        "            wind_speed.append(float(line.split(',')[2]))\n",
        "            wind_direction.append(line.split(',')[4].split('\\n')[0])\n",
        "    return (np.asarray(temp), np.asarray(rain), np.asarray(wind_speed), np.asarray(wind_direction))\n",
        "    "
      ],
      "execution_count": 0,
      "outputs": []
    },
    {
      "cell_type": "markdown",
      "metadata": {
        "id": "kFP367W6Pt8h",
        "colab_type": "text"
      },
      "source": [
        "## Read all PM2.5 Input files and see distribution"
      ]
    },
    {
      "cell_type": "code",
      "metadata": {
        "id": "wwvVIH2uRl8Z",
        "colab_type": "code",
        "outputId": "bd1cd5ce-7816-4398-973d-e6c60701e146",
        "colab": {
          "base_uri": "https://localhost:8080/",
          "height": 265
        }
      },
      "source": [
        "#Read PM 2.5 values\n",
        "aqi_1 = convert_to_array('aqi_09_2017')\n",
        "aqi_2 = convert_to_array('aqi_10_2017')\n",
        "aqi_3 = convert_to_array('aqi_11_2017')\n",
        "aqi_4 = convert_to_array('aqi_12_2017')\n",
        "\n",
        "#Concatenate all files for training\n",
        "data = np.concatenate([aqi_1,aqi_2,aqi_3,aqi_4])\n",
        "data = data.reshape(2928,1)\n",
        "\n",
        "#Plot to show the spead and variation of PM2.5 values\n",
        "plt.plot(data)\n",
        "plt.show()"
      ],
      "execution_count": 4,
      "outputs": [
        {
          "output_type": "display_data",
          "data": {
            "image/png": "[encoded data removed]",
            "text/plain": [
              "<Figure size 432x288 with 1 Axes>"
            ]
          },
          "metadata": {
            "tags": []
          }
        }
      ]
    },
    {
      "cell_type": "code",
      "metadata": {
        "id": "UomH2VYhR1Ll",
        "colab_type": "code",
        "colab": {}
      },
      "source": [
        "#split values for training and validation\n",
        "split_size = int(data.shape[0]*0.7)\n",
        "X_train, X_val = data[:split_size], data[split_size:]\n"
      ],
      "execution_count": 0,
      "outputs": []
    },
    {
      "cell_type": "code",
      "metadata": {
        "id": "kn4SZSYWR4QM",
        "colab_type": "code",
        "colab": {}
      },
      "source": [
        "#Read test data\n",
        "X_test = convert_to_array('aqi_01_2018')\n",
        "X_test = X_test.reshape(X_test.shape[0],1)"
      ],
      "execution_count": 0,
      "outputs": []
    },
    {
      "cell_type": "markdown",
      "metadata": {
        "id": "RPqFBBL0P7F1",
        "colab_type": "text"
      },
      "source": [
        "## Read weather files for training and data preprocessing"
      ]
    },
    {
      "cell_type": "code",
      "metadata": {
        "id": "IVp8VvKNSBUx",
        "colab_type": "code",
        "outputId": "d9143941-2ed2-47ec-af3f-90feea94ee04",
        "colab": {
          "base_uri": "https://localhost:8080/",
          "height": 124
        }
      },
      "source": [
        "#Read weather data from 4 files for training\n",
        "# 4 values are returned here as arrays\n",
        "#temperature, rain, windSpeed and windDirection\n",
        "temp1,rain1,wind_speed1,wind_direction1 = read_weather_file('weather_09_2017.csv')    \n",
        "temp2,rain2,wind_speed2,wind_direction2 = read_weather_file('weather_10_2017.csv')\n",
        "temp3,rain3,wind_speed3,wind_direction3  = read_weather_file('weather_11_2017.csv')\n",
        "temp4,rain4,wind_speed4,wind_direction4  = read_weather_file('weather_12_2017.csv')\n",
        "\n",
        "\n",
        "#Concatenate same type of values to one array for training\n",
        "temp = np.concatenate([temp1,temp2,temp3,temp4])\n",
        "rain = np.concatenate([rain1,rain2,rain3,rain4])\n",
        "wind_speed = np.concatenate([wind_speed1,wind_speed2,wind_speed3,wind_speed4])\n",
        "wind_direction = np.concatenate([wind_direction1,wind_direction1,wind_direction1,wind_direction1])\n",
        "\n",
        "#Convert wind direction to one hot encoding\n",
        "le = LabelEncoder().fit(wind_direction.ravel())\n",
        "enc = OneHotEncoder(sparse=False)\n",
        "wind_direction = enc.fit_transform(le.transform(wind_direction).reshape(-1,1))\n",
        "print(wind_direction.shape)\n",
        "\n",
        "#Reshape arrays for normalizing\n",
        "temp = temp.reshape(temp.shape[0],1)\n",
        "rain = rain.reshape(rain.shape[0],1)\n",
        "wind_speed = wind_speed.reshape(wind_speed.shape[0],1)\n",
        "\n",
        "#Normalize values\n",
        "scaler_temp = StandardScaler().fit(temp)\n",
        "scaler_rain = StandardScaler().fit(rain)\n",
        "scaler_wind_speed = StandardScaler().fit(wind_speed)\n",
        "temp = scaler_temp.transform(temp)\n",
        "rain = scaler_rain.transform(rain)\n",
        "wind_speed = scaler_wind_speed.transform(wind_speed)\n",
        "\n",
        "#Split weather variables into training and validation\n",
        "temp_train, temp_val = temp[:split_size], temp[split_size:]\n",
        "rain_train, rain_val = rain[:split_size], rain[split_size:]\n",
        "wind_speed_train, wind_speed_val = wind_speed[:split_size], wind_speed[split_size:]\n",
        "wind_direction_train, wind_direction_val = wind_direction[:split_size], wind_direction[split_size:]"
      ],
      "execution_count": 7,
      "outputs": [
        {
          "output_type": "stream",
          "text": [
            "(2880, 16)\n"
          ],
          "name": "stdout"
        },
        {
          "output_type": "stream",
          "text": [
            "/usr/local/lib/python3.6/dist-packages/sklearn/preprocessing/_encoders.py:415: FutureWarning: The handling of integer data will change in version 0.22. Currently, the categories are determined based on the range [0, max(values)], while in the future they will be determined based on the unique values.\n",
            "If you want the future behaviour and silence this warning, you can specify \"categories='auto'\".\n",
            "In case you used a LabelEncoder before this OneHotEncoder to convert the categories to integers, then you can now use the OneHotEncoder directly.\n",
            "  warnings.warn(msg, FutureWarning)\n"
          ],
          "name": "stderr"
        }
      ]
    },
    {
      "cell_type": "markdown",
      "metadata": {
        "id": "XnZF3wycQKRm",
        "colab_type": "text"
      },
      "source": [
        "## Read testing files for weather and preprocess"
      ]
    },
    {
      "cell_type": "code",
      "metadata": {
        "id": "Yp1wnnJ3SNcB",
        "colab_type": "code",
        "outputId": "cad4cc25-f212-4aeb-f9ba-b786931eae29",
        "colab": {
          "base_uri": "https://localhost:8080/",
          "height": 106
        }
      },
      "source": [
        "#Testing data\n",
        "temp_test,rain_test,wind_speed_test,wind_direction_test = read_weather_file('weather_12_2017.csv')\n",
        "temp_test = temp_test.reshape(temp_test.shape[0],1)\n",
        "rain_test = rain_test.reshape(rain_test.shape[0],1)\n",
        "wind_speed_test = wind_speed_test.reshape(wind_speed_test.shape[0],1)\n",
        "            \n",
        "#Normalize test values\n",
        "scaler_temp = StandardScaler().fit(temp_test)\n",
        "scaler_rain = StandardScaler().fit(rain_test)\n",
        "scaler_wind_speed = StandardScaler().fit(wind_speed_test)\n",
        "temp_test = scaler_temp.transform(temp_test)\n",
        "rain_test = scaler_rain.transform(rain_test)\n",
        "wind_speed_test = scaler_wind_speed.transform(wind_speed_test)\n",
        "\n",
        "#Wind_direction test \n",
        "le = LabelEncoder().fit(wind_direction_test.ravel())\n",
        "enc = OneHotEncoder(sparse=False)\n",
        "wind_direction_test = enc.fit_transform(le.transform(wind_direction_test).reshape(-1,1))"
      ],
      "execution_count": 8,
      "outputs": [
        {
          "output_type": "stream",
          "text": [
            "/usr/local/lib/python3.6/dist-packages/sklearn/preprocessing/_encoders.py:415: FutureWarning: The handling of integer data will change in version 0.22. Currently, the categories are determined based on the range [0, max(values)], while in the future they will be determined based on the unique values.\n",
            "If you want the future behaviour and silence this warning, you can specify \"categories='auto'\".\n",
            "In case you used a LabelEncoder before this OneHotEncoder to convert the categories to integers, then you can now use the OneHotEncoder directly.\n",
            "  warnings.warn(msg, FutureWarning)\n"
          ],
          "name": "stderr"
        }
      ]
    },
    {
      "cell_type": "markdown",
      "metadata": {
        "id": "_9yeyB8UQQuT",
        "colab_type": "text"
      },
      "source": [
        "### Below three cells have different variants of hybrid model. I have tried all and picked the best one."
      ]
    },
    {
      "cell_type": "markdown",
      "metadata": {
        "id": "Pw7g5qaHQgBP",
        "colab_type": "text"
      },
      "source": [
        "#### This model is without the use of alpha as proposed in the paper"
      ]
    },
    {
      "cell_type": "code",
      "metadata": {
        "id": "Z7JqJcQESSZB",
        "colab_type": "code",
        "colab": {}
      },
      "source": [
        "def hybrid_model():\n",
        "    inpA = Input(shape=(24,1))\n",
        "    model1 = LSTM(4,input_shape = (1,24,1))(inpA)\n",
        "    model1 = Dense(1)(model1)\n",
        "    model1 = Model(inputs= inpA,outputs = model1)\n",
        "    inpB = Input(shape=(45,))\n",
        "    model2 = Dense(512)(inpB)\n",
        "    model2 = Model(inputs= inpB,outputs = model2)\n",
        "    hybrid = concatenate([model1.output,model2.output])\n",
        "    #z = Dense(2, activation=\"relu\")(hybrid)\n",
        "    z = Dense(1, activation=\"linear\")(hybrid)\n",
        "    model = Model(inputs=[model1.input, model2.input], outputs=z)\n",
        "    return model\n",
        "    "
      ],
      "execution_count": 0,
      "outputs": []
    },
    {
      "cell_type": "markdown",
      "metadata": {
        "id": "0eIzvj9YbEjh",
        "colab_type": "text"
      },
      "source": [
        "#### This model is using alpha, with 2 LSTM layers."
      ]
    },
    {
      "cell_type": "code",
      "metadata": {
        "id": "fdyN-2zrxisi",
        "colab_type": "code",
        "colab": {}
      },
      "source": [
        "def hybrid_model3():\n",
        "    inpA = Input(shape=(24,1))\n",
        "    model1 = LSTM(128,input_shape = (1,24,1),return_sequences=True)(inpA)\n",
        "    model1 = LSTM(4)(model1)\n",
        "    model1 = Dense(1)(model1)\n",
        "    #model1 = Lambda(lambda x: x * alpha)(model1)\n",
        "    #k.backend.dot(model1,alpha)\n",
        "    #model1 = model1 * alpha\n",
        "    model1 = Model(inputs= inpA,outputs = model1)\n",
        "    inpB = Input(shape=(19,))\n",
        "    model2 = Dense(512)(inpB)\n",
        "    model2 = Model(inputs= inpB,outputs = model2)\n",
        "    hybrid = concatenate([model1.output,model2.output])\n",
        "    #z = Dense(2, activation=\"relu\")(hybrid)\n",
        "    z = Dense(1, activation=\"linear\")(hybrid)\n",
        "    #z = Lambda(lambda x: x * (1-alpha))(z)\n",
        "    #z = z* (1-alpha)\n",
        "    model = Model(inputs=[model1.input, model2.input], outputs=z)\n",
        "    return model\n",
        "    "
      ],
      "execution_count": 0,
      "outputs": []
    },
    {
      "cell_type": "markdown",
      "metadata": {
        "id": "LL3ifZiTbL5_",
        "colab_type": "text"
      },
      "source": [
        "#### This model is using alpha, with 1 LSTM layer."
      ]
    },
    {
      "cell_type": "code",
      "metadata": {
        "id": "HCB6aSGsP-n_",
        "colab_type": "code",
        "colab": {}
      },
      "source": [
        "alpha = 0.3\n",
        "def hybrid_model2():\n",
        "    #Define model1\n",
        "    inpA = Input(shape=(24,1))\n",
        "    model1 = LSTM(128,input_shape = (1,24,1))(inpA)\n",
        "    model1 = Dense(1)(model1)\n",
        "    model1 = Lambda(lambda x: x * alpha)(model1)\n",
        "    \n",
        "    #Define model2\n",
        "    model1 = Model(inputs= inpA,outputs = model1)\n",
        "    inpB = Input(shape=(45,))\n",
        "    model2 = Dense(512)(inpB)\n",
        "    model2 = Lambda(lambda x: x * (1-alpha))(model2)\n",
        "    model2 = Model(inputs= inpB,outputs = model2)\n",
        "\n",
        "    #Merge both models\n",
        "    hybrid = concatenate([model1.output,model2.output])\n",
        "    z = Dense(1, activation=\"linear\")(hybrid)\n",
        "    model = Model(inputs=[model1.input, model2.input], outputs=z)\n",
        "    return model"
      ],
      "execution_count": 0,
      "outputs": []
    },
    {
      "cell_type": "code",
      "metadata": {
        "id": "tNiBemd4SVj2",
        "colab_type": "code",
        "colab": {}
      },
      "source": [
        "#Call hybrid model2\n",
        "model = hybrid_model2()\n",
        "opt = Adam(lr=0.01)\n",
        "model.compile(loss=\"mean_absolute_percentage_error\", optimizer=opt)"
      ],
      "execution_count": 0,
      "outputs": []
    },
    {
      "cell_type": "code",
      "metadata": {
        "id": "MGXKAAOLSaud",
        "colab_type": "code",
        "colab": {}
      },
      "source": [
        "# Below three functions are imported from github:\n",
        " # https://github.com/vanduc103/air_analysis_v1/blob/master/hybrid_model_final.py\n",
        "\n",
        "def time2onehot(timeidx):\n",
        "    t = timeidx - (timeidx//24)*24\n",
        "    result = np.zeros(24)\n",
        "    result[t] = 1\n",
        "    return result\n",
        "\n",
        "def date2onehot_train(timeidx):\n",
        "    basetime = time.mktime((2017, 9, 1, 0, 0, 0, 0, 1, 1)) # 2017-09-01 00:00:00\n",
        "    d = time.localtime(basetime + timeidx * 3600)\n",
        "    wday = d.tm_wday\n",
        "\n",
        "    result = np.zeros(2)\n",
        "    holidays = [276, 277, 278, 279, 282, 359]\n",
        "    # weekend and holiday\n",
        "    if wday == 5 or wday == 6 or d.tm_yday in holidays:\n",
        "        result[1] = 1\n",
        "    else:\n",
        "        result[0] = 1\n",
        "    return result\n",
        "\n",
        "pred_timesteps = 12\n",
        "def batch_creator(batch_size, dataset_length, timesteps):\n",
        "    batch_x = list()\n",
        "    batch_y = list()\n",
        "    batch_x_w = list()\n",
        "\n",
        "    \"\"\"Create batch with random samples and return appropriate format\"\"\"\n",
        "    #batch_mask = rng.choice(dataset_length-timesteps, batch_size)\n",
        "    offset_rand = random.randrange(0, dataset_length - timesteps - batch_size - pred_timesteps)\n",
        "    for i in range(batch_size):\n",
        "        offset = offset_rand + i\n",
        "        batch_x.append(X_train[offset:offset+timesteps])\n",
        "        batch_y.append(X_train[offset+timesteps])\n",
        "        x_w = np.concatenate([temp_train[offset+timesteps], rain_train[offset+timesteps], wind_speed_train[offset+timesteps], wind_direction_train[offset+timesteps]], axis = 0)\n",
        "        # make time, date onehot\n",
        "        time_onehot = time2onehot(offset+timesteps)\n",
        "        date_onehot = date2onehot_train(offset+timesteps)\n",
        "        x_w = np.concatenate([x_w, np.concatenate([time_onehot, date_onehot], axis=0)], axis=0)\n",
        "        \n",
        "        batch_x_w.append(x_w)\n",
        "    \n",
        "    return np.asarray(batch_x), np.asarray(batch_x_w), np.asarray(batch_y)\n"
      ],
      "execution_count": 0,
      "outputs": []
    },
    {
      "cell_type": "code",
      "metadata": {
        "id": "DZPF9rHavJfc",
        "colab_type": "code",
        "colab": {}
      },
      "source": [
        "tensorboard = TensorBoard(\n",
        "  log_dir='/content/drive/My Drive/DLProject1/hybrid_final',\n",
        "  histogram_freq=0,\n",
        "  batch_size=64,\n",
        "  write_graph=True,\n",
        "  write_grads=True\n",
        ")\n",
        "tensorboard.set_model(model)"
      ],
      "execution_count": 0,
      "outputs": []
    },
    {
      "cell_type": "markdown",
      "metadata": {
        "id": "7ulCvCFEWW0z",
        "colab_type": "text"
      },
      "source": [
        "### Start training"
      ]
    },
    {
      "cell_type": "code",
      "metadata": {
        "id": "yhrYIS7OSqpp",
        "colab_type": "code",
        "outputId": "3c13b6ca-88d0-4811-b281-755afd1bc81f",
        "colab": {
          "base_uri": "https://localhost:8080/",
          "height": 191
        }
      },
      "source": [
        "training_steps = 10000\n",
        "batch_size = 256\n",
        "timesteps = 24\n",
        "\n",
        "for step in range(1, training_steps+1):\n",
        "      # Make the training batch for each step\n",
        "      batch_x, batch_x_w, batch_y = batch_creator(batch_size, X_train.shape[0], timesteps)\n",
        "      loss = model.train_on_batch([batch_x,batch_x_w],batch_y)\n",
        "      if step%1000==0:\n",
        "        tensorboard.on_epoch_end(step, {\"loss\":loss}) \n",
        "        print(loss)"
      ],
      "execution_count": 24,
      "outputs": [
        {
          "output_type": "stream",
          "text": [
            "12.794994\n",
            "9.996782\n",
            "9.667364\n",
            "9.56062\n",
            "10.374559\n",
            "9.908415\n",
            "10.276106\n",
            "12.71353\n",
            "10.676891\n",
            "10.068535\n"
          ],
          "name": "stdout"
        }
      ]
    },
    {
      "cell_type": "markdown",
      "metadata": {
        "id": "iI_vlAHUbo3U",
        "colab_type": "text"
      },
      "source": [
        "### Read testing PM2.5 data"
      ]
    },
    {
      "cell_type": "code",
      "metadata": {
        "id": "CWh2mxPen973",
        "colab_type": "code",
        "colab": {}
      },
      "source": [
        "X_test = convert_to_array('aqi_01_2018')\n",
        "#X_test = X_test.reshape(X_test.shape[0],1)"
      ],
      "execution_count": 0,
      "outputs": []
    },
    {
      "cell_type": "code",
      "metadata": {
        "id": "N4INU9-Ntfa5",
        "colab_type": "code",
        "colab": {}
      },
      "source": [
        "def batch_creator2(batch_size, dataset_length, timesteps):\n",
        "    batch_x = list()\n",
        "    batch_y = list()\n",
        "    batch_x_w = list()\n",
        "\n",
        "    \"\"\"Create batch with random samples and return appropriate format\"\"\"\n",
        "    #batch_mask = rng.choice(dataset_length-timesteps, batch_size)\n",
        "    offset_rand = random.randrange(0, dataset_length - timesteps - batch_size - pred_timesteps)\n",
        "    for i in range(batch_size):\n",
        "        offset = offset_rand + i\n",
        "        batch_x.append(X_val[offset:offset+timesteps])\n",
        "        batch_y.append(X_val[offset+timesteps])\n",
        "        x_w = np.concatenate([temp_val[offset+timesteps], rain_val[offset+timesteps], wind_speed_val[offset+timesteps], wind_direction_val[offset+timesteps]], axis = 0)\n",
        "        # make time, date onehot\n",
        "        time_onehot = time2onehot(offset+timesteps)\n",
        "        date_onehot = date2onehot_train(offset+timesteps)\n",
        "        x_w = np.concatenate([x_w, np.concatenate([time_onehot, date_onehot], axis=0)], axis=0)\n",
        "        \n",
        "        batch_x_w.append(x_w)\n",
        "    \n",
        "    return np.asarray(batch_x), np.asarray(batch_x_w), np.asarray(batch_y)\n"
      ],
      "execution_count": 0,
      "outputs": []
    },
    {
      "cell_type": "code",
      "metadata": {
        "id": "6zq9gpsFtLgI",
        "colab_type": "code",
        "outputId": "2e9a159c-99b6-4870-94f8-e5fd5e8b451b",
        "colab": {
          "base_uri": "https://localhost:8080/",
          "height": 34
        }
      },
      "source": [
        "test_x, test_x_w, test_y =batch_creator2(batch_size,X_val.shape[0],timesteps)\n",
        "test_x.shape"
      ],
      "execution_count": 26,
      "outputs": [
        {
          "output_type": "execute_result",
          "data": {
            "text/plain": [
              "(256, 24, 1)"
            ]
          },
          "metadata": {
            "tags": []
          },
          "execution_count": 26
        }
      ]
    },
    {
      "cell_type": "markdown",
      "metadata": {
        "id": "jwDwhvfYWko3",
        "colab_type": "text"
      },
      "source": [
        "### See predicted values"
      ]
    },
    {
      "cell_type": "code",
      "metadata": {
        "id": "NOMK9nazkycR",
        "colab_type": "code",
        "outputId": "c5232ba3-cba9-4689-8aa2-31759b45bad2",
        "colab": {
          "base_uri": "https://localhost:8080/",
          "height": 1000
        }
      },
      "source": [
        "#TEST\n",
        "y = model.predict([test_x,test_x_w])\n",
        "print('Predicted '+' '+'Real value')\n",
        "for i in range(len(y)):\n",
        "  print(str(np.round(y[i],0))+' '+str(test_y[i]))\n"
      ],
      "execution_count": 27,
      "outputs": [
        {
          "output_type": "stream",
          "text": [
            "Predicted  Real value\n",
            "[16.] [15.]\n",
            "[14.] [16.]\n",
            "[17.] [20.]\n",
            "[21.] [22.]\n",
            "[24.] [25.]\n",
            "[27.] [22.]\n",
            "[23.] [24.]\n",
            "[26.] [30.]\n",
            "[31.] [27.]\n",
            "[25.] [28.]\n",
            "[29.] [25.]\n",
            "[25.] [21.]\n",
            "[21.] [21.]\n",
            "[22.] [19.]\n",
            "[20.] [18.]\n",
            "[18.] [19.]\n",
            "[21.] [19.]\n",
            "[20.] [20.]\n",
            "[21.] [20.]\n",
            "[20.] [21.]\n",
            "[22.] [24.]\n",
            "[25.] [27.]\n",
            "[27.] [30.]\n",
            "[31.] [27.]\n",
            "[26.] [29.]\n",
            "[29.] [29.]\n",
            "[30.] [29.]\n",
            "[30.] [29.]\n",
            "[31.] [27.]\n",
            "[26.] [30.]\n",
            "[31.] [31.]\n",
            "[33.] [33.]\n",
            "[34.] [34.]\n",
            "[36.] [42.]\n",
            "[43.] [48.]\n",
            "[47.] [47.]\n",
            "[48.] [43.]\n",
            "[36.] [29.]\n",
            "[21.] [22.]\n",
            "[22.] [26.]\n",
            "[27.] [23.]\n",
            "[23.] [26.]\n",
            "[25.] [29.]\n",
            "[28.] [28.]\n",
            "[27.] [34.]\n",
            "[37.] [30.]\n",
            "[23.] [16.]\n",
            "[13.] [12.]\n",
            "[11.] [12.]\n",
            "[11.] [12.]\n",
            "[12.] [11.]\n",
            "[12.] [8.]\n",
            "[9.] [7.]\n",
            "[8.] [7.]\n",
            "[8.] [7.]\n",
            "[9.] [10.]\n",
            "[11.] [12.]\n",
            "[13.] [12.]\n",
            "[12.] [11.]\n",
            "[11.] [11.]\n",
            "[11.] [11.]\n",
            "[12.] [13.]\n",
            "[13.] [12.]\n",
            "[12.] [10.]\n",
            "[11.] [10.]\n",
            "[11.] [9.]\n",
            "[9.] [10.]\n",
            "[11.] [9.]\n",
            "[10.] [9.]\n",
            "[10.] [9.]\n",
            "[9.] [10.]\n",
            "[11.] [10.]\n",
            "[11.] [12.]\n",
            "[14.] [9.]\n",
            "[9.] [9.]\n",
            "[10.] [7.]\n",
            "[10.] [9.]\n",
            "[10.] [12.]\n",
            "[14.] [14.]\n",
            "[15.] [14.]\n",
            "[14.] [14.]\n",
            "[14.] [14.]\n",
            "[14.] [12.]\n",
            "[12.] [10.]\n",
            "[10.] [9.]\n",
            "[8.] [9.]\n",
            "[9.] [10.]\n",
            "[11.] [10.]\n",
            "[11.] [11.]\n",
            "[12.] [11.]\n",
            "[12.] [15.]\n",
            "[15.] [14.]\n",
            "[14.] [13.]\n",
            "[14.] [12.]\n",
            "[14.] [12.]\n",
            "[14.] [11.]\n",
            "[13.] [11.]\n",
            "[12.] [11.]\n",
            "[12.] [13.]\n",
            "[14.] [13.]\n",
            "[15.] [13.]\n",
            "[15.] [11.]\n",
            "[12.] [14.]\n",
            "[15.] [15.]\n",
            "[14.] [16.]\n",
            "[17.] [15.]\n",
            "[15.] [13.]\n",
            "[14.] [11.]\n",
            "[12.] [9.]\n",
            "[10.] [9.]\n",
            "[9.] [9.]\n",
            "[11.] [9.]\n",
            "[11.] [13.]\n",
            "[15.] [13.]\n",
            "[14.] [16.]\n",
            "[16.] [17.]\n",
            "[17.] [17.]\n",
            "[18.] [17.]\n",
            "[18.] [19.]\n",
            "[20.] [21.]\n",
            "[23.] [22.]\n",
            "[23.] [22.]\n",
            "[24.] [22.]\n",
            "[23.] [24.]\n",
            "[27.] [22.]\n",
            "[23.] [24.]\n",
            "[26.] [27.]\n",
            "[28.] [33.]\n",
            "[37.] [42.]\n",
            "[44.] [43.]\n",
            "[44.] [43.]\n",
            "[43.] [44.]\n",
            "[44.] [39.]\n",
            "[40.] [40.]\n",
            "[41.] [39.]\n",
            "[41.] [34.]\n",
            "[32.] [33.]\n",
            "[35.] [35.]\n",
            "[36.] [37.]\n",
            "[37.] [39.]\n",
            "[40.] [41.]\n",
            "[43.] [44.]\n",
            "[43.] [43.]\n",
            "[43.] [44.]\n",
            "[43.] [43.]\n",
            "[43.] [41.]\n",
            "[43.] [40.]\n",
            "[42.] [42.]\n",
            "[44.] [42.]\n",
            "[43.] [41.]\n",
            "[43.] [42.]\n",
            "[44.] [51.]\n",
            "[52.] [56.]\n",
            "[61.] [65.]\n",
            "[60.] [65.]\n",
            "[60.] [44.]\n",
            "[35.] [19.]\n",
            "[14.] [12.]\n",
            "[12.] [12.]\n",
            "[13.] [13.]\n",
            "[15.] [15.]\n",
            "[16.] [18.]\n",
            "[18.] [24.]\n",
            "[24.] [25.]\n",
            "[25.] [31.]\n",
            "[31.] [35.]\n",
            "[37.] [39.]\n",
            "[40.] [39.]\n",
            "[41.] [39.]\n",
            "[40.] [40.]\n",
            "[42.] [43.]\n",
            "[43.] [45.]\n",
            "[43.] [43.]\n",
            "[42.] [44.]\n",
            "[42.] [45.]\n",
            "[44.] [39.]\n",
            "[39.] [36.]\n",
            "[35.] [30.]\n",
            "[25.] [22.]\n",
            "[20.] [21.]\n",
            "[21.] [17.]\n",
            "[16.] [15.]\n",
            "[14.] [16.]\n",
            "[17.] [15.]\n",
            "[16.] [14.]\n",
            "[15.] [14.]\n",
            "[13.] [14.]\n",
            "[13.] [13.]\n",
            "[13.] [13.]\n",
            "[13.] [14.]\n",
            "[13.] [14.]\n",
            "[13.] [16.]\n",
            "[16.] [17.]\n",
            "[17.] [15.]\n",
            "[15.] [15.]\n",
            "[15.] [16.]\n",
            "[18.] [16.]\n",
            "[17.] [16.]\n",
            "[16.] [16.]\n",
            "[18.] [16.]\n",
            "[16.] [15.]\n",
            "[15.] [13.]\n",
            "[13.] [11.]\n",
            "[10.] [8.]\n",
            "[8.] [8.]\n",
            "[9.] [10.]\n",
            "[10.] [10.]\n",
            "[11.] [11.]\n",
            "[13.] [11.]\n",
            "[13.] [14.]\n",
            "[14.] [15.]\n",
            "[14.] [16.]\n",
            "[15.] [16.]\n",
            "[15.] [17.]\n",
            "[17.] [16.]\n",
            "[16.] [17.]\n",
            "[18.] [17.]\n",
            "[17.] [17.]\n",
            "[19.] [17.]\n",
            "[18.] [18.]\n",
            "[20.] [18.]\n",
            "[19.] [19.]\n",
            "[20.] [22.]\n",
            "[23.] [29.]\n",
            "[28.] [34.]\n",
            "[38.] [36.]\n",
            "[36.] [37.]\n",
            "[37.] [35.]\n",
            "[34.] [27.]\n",
            "[21.] [22.]\n",
            "[22.] [22.]\n",
            "[23.] [22.]\n",
            "[23.] [18.]\n",
            "[18.] [23.]\n",
            "[23.] [25.]\n",
            "[25.] [30.]\n",
            "[29.] [30.]\n",
            "[29.] [31.]\n",
            "[31.] [31.]\n",
            "[31.] [34.]\n",
            "[36.] [38.]\n",
            "[38.] [38.]\n",
            "[38.] [40.]\n",
            "[41.] [28.]\n",
            "[20.] [20.]\n",
            "[20.] [16.]\n",
            "[15.] [18.]\n",
            "[20.] [24.]\n",
            "[26.] [22.]\n",
            "[22.] [22.]\n",
            "[22.] [24.]\n",
            "[24.] [23.]\n",
            "[22.] [23.]\n",
            "[22.] [23.]\n",
            "[22.] [17.]\n",
            "[15.] [19.]\n"
          ],
          "name": "stdout"
        }
      ]
    },
    {
      "cell_type": "markdown",
      "metadata": {
        "id": "mBr9DVuSWoBA",
        "colab_type": "text"
      },
      "source": [
        "### Evaluate loss"
      ]
    },
    {
      "cell_type": "code",
      "metadata": {
        "id": "g1mTD8Lh_jq8",
        "colab_type": "code",
        "outputId": "fb34d82f-5cfb-4787-963d-1cee36404f50",
        "colab": {
          "base_uri": "https://localhost:8080/",
          "height": 52
        }
      },
      "source": [
        "model.evaluate([test_x,test_x_w],test_y)"
      ],
      "execution_count": 28,
      "outputs": [
        {
          "output_type": "stream",
          "text": [
            "256/256 [==============================] - 0s 1ms/step\n"
          ],
          "name": "stdout"
        },
        {
          "output_type": "execute_result",
          "data": {
            "text/plain": [
              "10.435007691383362"
            ]
          },
          "metadata": {
            "tags": []
          },
          "execution_count": 28
        }
      ]
    },
    {
      "cell_type": "markdown",
      "metadata": {
        "id": "-9CzMLkM-7sQ",
        "colab_type": "text"
      },
      "source": [
        "Plot Predict Values"
      ]
    },
    {
      "cell_type": "code",
      "metadata": {
        "id": "eGS5OZfs-60n",
        "colab_type": "code",
        "colab": {
          "base_uri": "https://localhost:8080/",
          "height": 265
        },
        "outputId": "735a4f39-ffb9-44ab-ba30-3d11e61cfafa"
      },
      "source": [
        "plt.plot(y)\n",
        "plt.show()"
      ],
      "execution_count": 29,
      "outputs": [
        {
          "output_type": "display_data",
          "data": {
            "image/png": "[encoded data removed]",
            "text/plain": [
              "<Figure size 432x288 with 1 Axes>"
            ]
          },
          "metadata": {
            "tags": []
          }
        }
      ]
    }
  ]
}